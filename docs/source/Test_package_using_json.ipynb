{
 "cells": [
  {
   "cell_type": "markdown",
   "metadata": {},
   "source": [
    "# Getting Started"
   ]
  },
  {
   "cell_type": "markdown",
   "metadata": {},
   "source": [
    "\n",
    "## Data load"
   ]
  },
  {
   "cell_type": "code",
   "execution_count": 1,
   "metadata": {},
   "outputs": [],
   "source": [
    "#Import package\n",
    "import numpy as np\n",
    "import pandas as pd\n",
    "\n",
    "from pyspark.sql.session import SparkSession\n",
    "\n",
    "spark = SparkSession.builder.getOrCreate()"
   ]
  },
  {
   "cell_type": "code",
   "execution_count": 2,
   "metadata": {},
   "outputs": [],
   "source": [
    "#If using .json file\n",
    "from pyspark.sql.functions import *\n",
    "from pyspark.sql.types import *\n",
    "sch = StructType([StructField('V1',DoubleType()), StructField('V2',DoubleType()), StructField('V3',DoubleType()), StructField('V4',DoubleType()), StructField('V5',DoubleType()), StructField('V6',DoubleType()), StructField('V7',DoubleType()), StructField('V8',DoubleType()), StructField('V9',DoubleType()), StructField('V10',DoubleType()), StructField('V11',DoubleType()), StructField('V12',DoubleType()), StructField('V13',DoubleType()), StructField('V14',DoubleType()), StructField('V15',DoubleType()), StructField('V16',DoubleType()), StructField('V17',DoubleType()), StructField('V18',DoubleType()), StructField('V19',DoubleType()), StructField('V20',DoubleType()), StructField('V21',DoubleType()), StructField('V22',DoubleType()), StructField('V23',DoubleType()), StructField('V24',DoubleType()), StructField('V25',DoubleType()), StructField('V26',DoubleType()), StructField('V27',DoubleType()), StructField('V28',DoubleType()), StructField('V29',DoubleType()), StructField('V30',DoubleType()), StructField('V31',DoubleType()), StructField('V32',DoubleType()), StructField('V33',DoubleType()), StructField('V34',DoubleType()), StructField('V35',DoubleType()), StructField('V36',DoubleType()), StructField('V37',DoubleType()), StructField('V38',DoubleType()), StructField('V39',DoubleType()), StructField('V40',DoubleType()), StructField('V41',DoubleType()), StructField('V42',DoubleType()), StructField('V43',DoubleType()), StructField('V44',DoubleType()), StructField('V45',DoubleType()), StructField('V46',DoubleType()), StructField('V47',DoubleType()), StructField('V48',DoubleType()), StructField('V49',DoubleType()), StructField('V50',DoubleType()), StructField('V51',DoubleType()), StructField('V52',DoubleType()), StructField('V53',DoubleType()), StructField('V54',DoubleType()), StructField('V55',DoubleType()), StructField('V56',DoubleType()), StructField('V57',DoubleType()), StructField('V58',DoubleType()), StructField('V59',DoubleType()), StructField('V60',DoubleType()), StructField('V61',DoubleType()), StructField('V62',DoubleType()), StructField('V63',DoubleType()), StructField('V64',DoubleType()), StructField('V65',DoubleType()), StructField('V66',DoubleType()), StructField('V67',DoubleType()), StructField('V68',DoubleType()), StructField('V69',DoubleType()), StructField('V70',DoubleType()), StructField('V71',DoubleType()), StructField('V72',DoubleType()), StructField('V73',DoubleType()), StructField('V74',DoubleType()), StructField('V75',DoubleType()), StructField('V76',DoubleType()), StructField('V77',DoubleType()), StructField('V78',DoubleType()), StructField('V79',DoubleType()), StructField('V80',DoubleType()), StructField('V81',DoubleType()), StructField('V82',DoubleType()), StructField('V83',DoubleType()), StructField('V84',DoubleType()), StructField('V85',DoubleType()), StructField('V86',DoubleType()), StructField('V87',DoubleType()), StructField('V88',DoubleType()), StructField('V89',DoubleType()), StructField('V90',DoubleType()), StructField('V91',DoubleType()), StructField('V92',DoubleType()), StructField('V93',DoubleType()), StructField('V94',DoubleType()), StructField('V95',DoubleType()), StructField('V96',DoubleType()), StructField('V97',DoubleType()), StructField('V98',DoubleType()), StructField('V99',DoubleType()), StructField('V100',DoubleType())\n",
    "])"
   ]
  },
  {
   "cell_type": "code",
   "execution_count": 3,
   "metadata": {},
   "outputs": [],
   "source": [
    "X_Sparkdataframe = spark.read.schema(sch).json(\"simulation_data_x.json\")\n",
    "X_Sparkdataframe = X_Sparkdataframe.select(*(col(c).cast(\"float\").alias(c) for c in X_Sparkdataframe.columns))\n",
    "X = X_Sparkdataframe.toPandas()\n",
    "y_Sparkdataframe = spark.read.json(\"simulation_data_y.json\")\n",
    "y_Sparkdataframe = y_Sparkdataframe.select(*(col(c).cast(\"float\").alias(c) for c in y_Sparkdataframe.columns))\n",
    "y = y_Sparkdataframe.toPandas()"
   ]
  },
  {
   "cell_type": "code",
   "execution_count": 4,
   "metadata": {},
   "outputs": [
    {
     "data": {
      "text/html": [
       "<div>\n",
       "<style scoped>\n",
       "    .dataframe tbody tr th:only-of-type {\n",
       "        vertical-align: middle;\n",
       "    }\n",
       "\n",
       "    .dataframe tbody tr th {\n",
       "        vertical-align: top;\n",
       "    }\n",
       "\n",
       "    .dataframe thead th {\n",
       "        text-align: right;\n",
       "    }\n",
       "</style>\n",
       "<table border=\"1\" class=\"dataframe\">\n",
       "  <thead>\n",
       "    <tr style=\"text-align: right;\">\n",
       "      <th></th>\n",
       "      <th>V1</th>\n",
       "      <th>V2</th>\n",
       "      <th>V3</th>\n",
       "      <th>V4</th>\n",
       "      <th>V5</th>\n",
       "      <th>V6</th>\n",
       "      <th>V7</th>\n",
       "      <th>V8</th>\n",
       "      <th>V9</th>\n",
       "      <th>V10</th>\n",
       "      <th>...</th>\n",
       "      <th>V91</th>\n",
       "      <th>V92</th>\n",
       "      <th>V93</th>\n",
       "      <th>V94</th>\n",
       "      <th>V95</th>\n",
       "      <th>V96</th>\n",
       "      <th>V97</th>\n",
       "      <th>V98</th>\n",
       "      <th>V99</th>\n",
       "      <th>V100</th>\n",
       "    </tr>\n",
       "  </thead>\n",
       "  <tbody>\n",
       "    <tr>\n",
       "      <th>0</th>\n",
       "      <td>0.101741</td>\n",
       "      <td>0.144909</td>\n",
       "      <td>0.235567</td>\n",
       "      <td>0.576186</td>\n",
       "      <td>0.299443</td>\n",
       "      <td>0.296395</td>\n",
       "      <td>0.902235</td>\n",
       "      <td>0.265811</td>\n",
       "      <td>0.420927</td>\n",
       "      <td>0.684045</td>\n",
       "      <td>...</td>\n",
       "      <td>-0.058677</td>\n",
       "      <td>0.497420</td>\n",
       "      <td>-1.124986</td>\n",
       "      <td>0.338215</td>\n",
       "      <td>-0.942943</td>\n",
       "      <td>-1.257044</td>\n",
       "      <td>-0.531471</td>\n",
       "      <td>1.236317</td>\n",
       "      <td>0.405682</td>\n",
       "      <td>0.387636</td>\n",
       "    </tr>\n",
       "    <tr>\n",
       "      <th>1</th>\n",
       "      <td>-0.105054</td>\n",
       "      <td>-0.110128</td>\n",
       "      <td>-0.033311</td>\n",
       "      <td>-0.042925</td>\n",
       "      <td>-0.752605</td>\n",
       "      <td>-0.794815</td>\n",
       "      <td>-1.699739</td>\n",
       "      <td>-1.891533</td>\n",
       "      <td>-1.287547</td>\n",
       "      <td>-1.154547</td>\n",
       "      <td>...</td>\n",
       "      <td>-1.614948</td>\n",
       "      <td>-1.337878</td>\n",
       "      <td>0.795742</td>\n",
       "      <td>1.101117</td>\n",
       "      <td>-0.920702</td>\n",
       "      <td>-0.098002</td>\n",
       "      <td>-0.269719</td>\n",
       "      <td>0.333092</td>\n",
       "      <td>-0.500367</td>\n",
       "      <td>1.340876</td>\n",
       "    </tr>\n",
       "    <tr>\n",
       "      <th>2</th>\n",
       "      <td>-0.478922</td>\n",
       "      <td>-0.058475</td>\n",
       "      <td>-0.620625</td>\n",
       "      <td>1.775435</td>\n",
       "      <td>0.935760</td>\n",
       "      <td>1.268173</td>\n",
       "      <td>-2.652118</td>\n",
       "      <td>-2.327299</td>\n",
       "      <td>-2.913926</td>\n",
       "      <td>-2.140256</td>\n",
       "      <td>...</td>\n",
       "      <td>0.081620</td>\n",
       "      <td>0.999657</td>\n",
       "      <td>-0.594758</td>\n",
       "      <td>0.057804</td>\n",
       "      <td>-1.259650</td>\n",
       "      <td>0.321864</td>\n",
       "      <td>0.992930</td>\n",
       "      <td>0.552269</td>\n",
       "      <td>1.253700</td>\n",
       "      <td>0.974150</td>\n",
       "    </tr>\n",
       "    <tr>\n",
       "      <th>3</th>\n",
       "      <td>-0.657057</td>\n",
       "      <td>-0.508105</td>\n",
       "      <td>-0.556453</td>\n",
       "      <td>0.057045</td>\n",
       "      <td>-0.344814</td>\n",
       "      <td>-0.557824</td>\n",
       "      <td>-0.814844</td>\n",
       "      <td>0.016355</td>\n",
       "      <td>-0.384234</td>\n",
       "      <td>-0.022224</td>\n",
       "      <td>...</td>\n",
       "      <td>0.077500</td>\n",
       "      <td>-1.489750</td>\n",
       "      <td>-0.151010</td>\n",
       "      <td>0.347814</td>\n",
       "      <td>2.281268</td>\n",
       "      <td>-1.275026</td>\n",
       "      <td>-0.141539</td>\n",
       "      <td>-0.335557</td>\n",
       "      <td>0.196004</td>\n",
       "      <td>-1.347782</td>\n",
       "    </tr>\n",
       "    <tr>\n",
       "      <th>4</th>\n",
       "      <td>-0.939275</td>\n",
       "      <td>-0.780565</td>\n",
       "      <td>-0.495687</td>\n",
       "      <td>-0.308105</td>\n",
       "      <td>-0.604543</td>\n",
       "      <td>-0.272711</td>\n",
       "      <td>0.080763</td>\n",
       "      <td>0.542582</td>\n",
       "      <td>0.580669</td>\n",
       "      <td>0.162638</td>\n",
       "      <td>...</td>\n",
       "      <td>0.677662</td>\n",
       "      <td>0.188278</td>\n",
       "      <td>0.716616</td>\n",
       "      <td>-1.290398</td>\n",
       "      <td>-0.579556</td>\n",
       "      <td>-0.692827</td>\n",
       "      <td>-1.040820</td>\n",
       "      <td>-0.674525</td>\n",
       "      <td>1.355343</td>\n",
       "      <td>1.754870</td>\n",
       "    </tr>\n",
       "  </tbody>\n",
       "</table>\n",
       "<p>5 rows × 100 columns</p>\n",
       "</div>"
      ],
      "text/plain": [
       "         V1        V2        V3        V4        V5        V6        V7  \\\n",
       "0  0.101741  0.144909  0.235567  0.576186  0.299443  0.296395  0.902235   \n",
       "1 -0.105054 -0.110128 -0.033311 -0.042925 -0.752605 -0.794815 -1.699739   \n",
       "2 -0.478922 -0.058475 -0.620625  1.775435  0.935760  1.268173 -2.652118   \n",
       "3 -0.657057 -0.508105 -0.556453  0.057045 -0.344814 -0.557824 -0.814844   \n",
       "4 -0.939275 -0.780565 -0.495687 -0.308105 -0.604543 -0.272711  0.080763   \n",
       "\n",
       "         V8        V9       V10  ...       V91       V92       V93       V94  \\\n",
       "0  0.265811  0.420927  0.684045  ... -0.058677  0.497420 -1.124986  0.338215   \n",
       "1 -1.891533 -1.287547 -1.154547  ... -1.614948 -1.337878  0.795742  1.101117   \n",
       "2 -2.327299 -2.913926 -2.140256  ...  0.081620  0.999657 -0.594758  0.057804   \n",
       "3  0.016355 -0.384234 -0.022224  ...  0.077500 -1.489750 -0.151010  0.347814   \n",
       "4  0.542582  0.580669  0.162638  ...  0.677662  0.188278  0.716616 -1.290398   \n",
       "\n",
       "        V95       V96       V97       V98       V99      V100  \n",
       "0 -0.942943 -1.257044 -0.531471  1.236317  0.405682  0.387636  \n",
       "1 -0.920702 -0.098002 -0.269719  0.333092 -0.500367  1.340876  \n",
       "2 -1.259650  0.321864  0.992930  0.552269  1.253700  0.974150  \n",
       "3  2.281268 -1.275026 -0.141539 -0.335557  0.196004 -1.347782  \n",
       "4 -0.579556 -0.692827 -1.040820 -0.674525  1.355343  1.754870  \n",
       "\n",
       "[5 rows x 100 columns]"
      ]
     },
     "execution_count": 4,
     "metadata": {},
     "output_type": "execute_result"
    }
   ],
   "source": [
    "X.head()"
   ]
  },
  {
   "cell_type": "code",
   "execution_count": 5,
   "metadata": {},
   "outputs": [
    {
     "data": {
      "text/html": [
       "<div>\n",
       "<style scoped>\n",
       "    .dataframe tbody tr th:only-of-type {\n",
       "        vertical-align: middle;\n",
       "    }\n",
       "\n",
       "    .dataframe tbody tr th {\n",
       "        vertical-align: top;\n",
       "    }\n",
       "\n",
       "    .dataframe thead th {\n",
       "        text-align: right;\n",
       "    }\n",
       "</style>\n",
       "<table border=\"1\" class=\"dataframe\">\n",
       "  <thead>\n",
       "    <tr style=\"text-align: right;\">\n",
       "      <th></th>\n",
       "      <th>V1</th>\n",
       "    </tr>\n",
       "  </thead>\n",
       "  <tbody>\n",
       "    <tr>\n",
       "      <th>0</th>\n",
       "      <td>2.811113</td>\n",
       "    </tr>\n",
       "    <tr>\n",
       "      <th>1</th>\n",
       "      <td>1.049249</td>\n",
       "    </tr>\n",
       "    <tr>\n",
       "      <th>2</th>\n",
       "      <td>-4.496389</td>\n",
       "    </tr>\n",
       "    <tr>\n",
       "      <th>3</th>\n",
       "      <td>-3.846408</td>\n",
       "    </tr>\n",
       "    <tr>\n",
       "      <th>4</th>\n",
       "      <td>-2.805357</td>\n",
       "    </tr>\n",
       "  </tbody>\n",
       "</table>\n",
       "</div>"
      ],
      "text/plain": [
       "         V1\n",
       "0  2.811113\n",
       "1  1.049249\n",
       "2 -4.496389\n",
       "3 -3.846408\n",
       "4 -2.805357"
      ]
     },
     "execution_count": 5,
     "metadata": {},
     "output_type": "execute_result"
    }
   ],
   "source": [
    "y.head()"
   ]
  },
  {
   "cell_type": "markdown",
   "metadata": {},
   "source": [
    "## General Usage"
   ]
  },
  {
   "cell_type": "code",
   "execution_count": 6,
   "metadata": {},
   "outputs": [
    {
     "name": "stderr",
     "output_type": "stream",
     "text": [
      "C:\\Users\\Seungha\\anaconda3\\lib\\site-packages\\sklearn\\externals\\joblib\\__init__.py:15: FutureWarning: sklearn.externals.joblib is deprecated in 0.21 and will be removed in 0.23. Please import this functionality directly from joblib, which can be installed with: pip install joblib. If this warning is raised when loading pickled models, you may need to re-serialize those models with scikit-learn 0.21+.\n",
      "  warnings.warn(msg, category=FutureWarning)\n",
      "C:\\Users\\Seungha\\anaconda3\\lib\\site-packages\\sklearn\\externals\\six.py:31: FutureWarning: The module is deprecated in version 0.21 and will be removed in version 0.23 since we've dropped support for Python 2.7. Please rely on the official version of six (https://pypi.org/project/six/).\n",
      "  \"(https://pypi.org/project/six/).\", FutureWarning)\n"
     ]
    },
    {
     "name": "stdout",
     "output_type": "stream",
     "text": [
      "Procedure_1_fin.\n",
      "Procedure_2_fin.\n"
     ]
    },
    {
     "data": {
      "text/plain": [
       "<Hi_LASSO_pyspark.HiLASSO_Spark at 0x1b7628c91c8>"
      ]
     },
     "execution_count": 6,
     "metadata": {},
     "output_type": "execute_result"
    }
   ],
   "source": [
    "from Hi_LASSO_pyspark import HiLASSO_Spark\n",
    "\n",
    "model = HiLASSO_Spark(X, y, alpha=0.05, q1='auto', q2='auto', L=30, cv=5, node='auto', logistic=False)\n",
    "model.fit()"
   ]
  },
  {
   "cell_type": "code",
   "execution_count": 7,
   "metadata": {},
   "outputs": [
    {
     "data": {
      "text/plain": [
       "array([ 9.07767822e-01,  1.84831819e+00, -1.50886668e-01,  6.51613666e-01,\n",
       "        3.60881908e-01, -5.43158333e-02,  1.10656217e+00,  5.76287223e-01,\n",
       "        1.45350133e-01,  1.12891593e-02, -4.92306272e-01,  4.00331044e-03,\n",
       "       -2.92755363e-02,  0.00000000e+00, -5.97072304e-01, -4.01800075e-03,\n",
       "       -1.85472135e-02,  1.50973881e-02,  0.00000000e+00,  1.00734445e-03,\n",
       "        1.82650706e-01, -2.44372503e-02,  0.00000000e+00,  4.87803321e-04,\n",
       "        2.12434938e-01, -1.35364354e-03,  6.26210409e-03,  7.30404076e-02,\n",
       "        0.00000000e+00,  4.32746612e-02,  6.84953978e-04,  0.00000000e+00,\n",
       "        5.08000749e-02,  4.16104086e-01,  0.00000000e+00,  0.00000000e+00,\n",
       "        6.12355843e-05, -2.15697968e-03,  0.00000000e+00,  0.00000000e+00,\n",
       "        8.90277566e-02,  0.00000000e+00,  4.82355939e-01,  0.00000000e+00,\n",
       "       -6.06668658e-02,  4.24659000e-02, -1.41782146e-02, -3.61172307e-03,\n",
       "        0.00000000e+00, -1.65201959e-04,  0.00000000e+00, -1.42850442e-02,\n",
       "       -1.45138412e-01,  0.00000000e+00,  9.37401342e-05,  0.00000000e+00,\n",
       "        4.69654532e-03,  2.33781070e-02, -1.21564959e-01,  1.19742376e-01,\n",
       "        4.37066230e-03,  0.00000000e+00,  0.00000000e+00,  0.00000000e+00,\n",
       "       -7.42586867e-03, -7.69866705e-04,  4.79935847e-03, -8.54272613e-03,\n",
       "       -4.44192587e-04,  0.00000000e+00,  6.32937349e-03,  1.72394695e-01,\n",
       "        1.89504145e-02,  0.00000000e+00,  4.31866689e-03,  0.00000000e+00,\n",
       "        2.51616680e-02,  0.00000000e+00,  0.00000000e+00,  0.00000000e+00,\n",
       "       -2.12432332e-01,  1.61906818e-01,  1.70911957e-01,  0.00000000e+00,\n",
       "        5.26630954e-04,  0.00000000e+00, -1.13084992e+00, -8.78953629e-02,\n",
       "       -2.32628707e-03,  0.00000000e+00,  3.15969130e-03,  0.00000000e+00,\n",
       "       -6.36326525e-04,  1.61205647e-01,  0.00000000e+00,  5.21366390e-02,\n",
       "        2.89292450e-03,  0.00000000e+00, -5.86326872e-02,  2.83126071e-02])"
      ]
     },
     "execution_count": 7,
     "metadata": {},
     "output_type": "execute_result"
    }
   ],
   "source": [
    "model.coef_"
   ]
  },
  {
   "cell_type": "code",
   "execution_count": 8,
   "metadata": {},
   "outputs": [
    {
     "data": {
      "text/plain": [
       "array([7.53704419e-089, 1.50423843e-183, 7.54534150e-001, 9.43249973e-088,\n",
       "       2.82878036e-034, 9.98485520e-001, 7.92473484e-147, 3.05039555e-068,\n",
       "       6.11829481e-003, 1.00000000e+000, 1.65138684e-117, 1.00000000e+000,\n",
       "       9.45720852e-001, 1.00000000e+000, 4.57443521e-091, 1.00000000e+000,\n",
       "       1.00000000e+000, 9.99999998e-001, 1.00000000e+000, 1.00000000e+000,\n",
       "       1.27876186e-005, 9.99999540e-001, 1.00000000e+000, 1.00000000e+000,\n",
       "       5.63291884e-020, 1.00000000e+000, 1.00000000e+000, 1.13863358e-001,\n",
       "       1.00000000e+000, 7.54534150e-001, 1.00000000e+000, 1.00000000e+000,\n",
       "       5.62464251e-001, 3.12847085e-079, 1.00000000e+000, 1.00000000e+000,\n",
       "       1.00000000e+000, 1.00000000e+000, 1.00000000e+000, 1.00000000e+000,\n",
       "       5.00176690e-004, 1.00000000e+000, 1.90247524e-094, 1.00000000e+000,\n",
       "       2.85225204e-004, 6.30455341e-001, 9.99233039e-001, 1.00000000e+000,\n",
       "       1.00000000e+000, 1.00000000e+000, 1.00000000e+000, 9.99998548e-001,\n",
       "       1.63646066e-007, 1.00000000e+000, 1.00000000e+000, 1.00000000e+000,\n",
       "       1.00000000e+000, 9.99999865e-001, 4.69500947e-005, 6.18737269e-009,\n",
       "       1.00000000e+000, 1.00000000e+000, 1.00000000e+000, 1.00000000e+000,\n",
       "       1.00000000e+000, 1.00000000e+000, 1.00000000e+000, 9.99999998e-001,\n",
       "       1.00000000e+000, 1.00000000e+000, 1.00000000e+000, 1.75747652e-010,\n",
       "       9.94847160e-001, 1.00000000e+000, 1.00000000e+000, 1.00000000e+000,\n",
       "       9.99988256e-001, 1.00000000e+000, 1.00000000e+000, 1.00000000e+000,\n",
       "       1.47539558e-054, 7.77001029e-016, 1.38617488e-012, 1.00000000e+000,\n",
       "       9.99969672e-001, 1.00000000e+000, 4.20762516e-215, 1.44173110e-008,\n",
       "       1.00000000e+000, 1.00000000e+000, 9.99999998e-001, 1.00000000e+000,\n",
       "       1.00000000e+000, 2.37906131e-015, 1.00000000e+000, 9.49056045e-003,\n",
       "       1.00000000e+000, 1.00000000e+000, 3.58419958e-001, 9.99995730e-001])"
      ]
     },
     "execution_count": 8,
     "metadata": {},
     "output_type": "execute_result"
    }
   ],
   "source": [
    "model.p_values"
   ]
  },
  {
   "cell_type": "code",
   "execution_count": 9,
   "metadata": {},
   "outputs": [
    {
     "data": {
      "text/plain": [
       "array([ 0.90776782,  1.84831819,  0.        ,  0.65161367,  0.36088191,\n",
       "        0.        ,  1.10656217,  0.57628722,  0.        ,  0.        ,\n",
       "       -0.49230627,  0.        ,  0.        ,  0.        , -0.5970723 ,\n",
       "        0.        ,  0.        ,  0.        ,  0.        ,  0.        ,\n",
       "        0.18265071,  0.        ,  0.        ,  0.        ,  0.21243494,\n",
       "        0.        ,  0.        ,  0.        ,  0.        ,  0.        ,\n",
       "        0.        ,  0.        ,  0.        ,  0.41610409,  0.        ,\n",
       "        0.        ,  0.        ,  0.        ,  0.        ,  0.        ,\n",
       "        0.        ,  0.        ,  0.48235594,  0.        , -0.06066687,\n",
       "        0.        ,  0.        ,  0.        ,  0.        ,  0.        ,\n",
       "        0.        ,  0.        , -0.14513841,  0.        ,  0.        ,\n",
       "        0.        ,  0.        ,  0.        , -0.12156496,  0.11974238,\n",
       "        0.        ,  0.        ,  0.        ,  0.        ,  0.        ,\n",
       "        0.        ,  0.        ,  0.        ,  0.        ,  0.        ,\n",
       "        0.        ,  0.17239469,  0.        ,  0.        ,  0.        ,\n",
       "        0.        ,  0.        ,  0.        ,  0.        ,  0.        ,\n",
       "       -0.21243233,  0.16190682,  0.17091196,  0.        ,  0.        ,\n",
       "        0.        , -1.13084992, -0.08789536,  0.        ,  0.        ,\n",
       "        0.        ,  0.        ,  0.        ,  0.16120565,  0.        ,\n",
       "        0.        ,  0.        ,  0.        ,  0.        ,  0.        ])"
      ]
     },
     "execution_count": 9,
     "metadata": {},
     "output_type": "execute_result"
    }
   ],
   "source": [
    "model.selected_var"
   ]
  }
 ],
 "metadata": {
  "kernelspec": {
   "display_name": "Python 3",
   "language": "python",
   "name": "python3"
  },
  "language_info": {
   "codemirror_mode": {
    "name": "ipython",
    "version": 3
   },
   "file_extension": ".py",
   "mimetype": "text/x-python",
   "name": "python",
   "nbconvert_exporter": "python",
   "pygments_lexer": "ipython3",
   "version": "3.7.6"
  }
 },
 "nbformat": 4,
 "nbformat_minor": 2
}
