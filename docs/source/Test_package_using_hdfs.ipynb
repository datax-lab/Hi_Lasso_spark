{
 "cells": [
  {
   "cell_type": "markdown",
   "metadata": {},
   "source": [
    "# Getting Started"
   ]
  },
  {
   "cell_type": "markdown",
   "metadata": {},
   "source": [
    "## Data load"
   ]
  },
  {
   "cell_type": "code",
   "execution_count": 1,
   "metadata": {},
   "outputs": [],
   "source": [
    "from pyspark.sql import SparkSession\n",
    "sparkSession = SparkSession.builder.getOrCreate()\n",
    "\n",
    "import pandas as pd \n",
    "X = pd.read_csv('simulation_data_x.csv')\n",
    "y = pd.read_csv('simulation_data_y.csv')"
   ]
  },
  {
   "cell_type": "code",
   "execution_count": 2,
   "metadata": {},
   "outputs": [],
   "source": [
    "df_X = sparkSession.createDataFrame(X)\n",
    "df_y = sparkSession.createDataFrame(y)"
   ]
  },
  {
   "cell_type": "markdown",
   "metadata": {},
   "source": [
    "## Write .csv file into hdfs "
   ]
  },
  {
   "cell_type": "code",
   "execution_count": 3,
   "metadata": {},
   "outputs": [],
   "source": [
    "df_X.write.csv(\"hdfs://localhost:9000/df_X.csv\")\n",
    "df_y.write.csv(\"hdfs://localhost:9000/df_y.csv\")"
   ]
  },
  {
   "cell_type": "code",
   "execution_count": 4,
   "metadata": {},
   "outputs": [],
   "source": [
    "from pyspark.sql.functions import *\n",
    "from pyspark.sql.types import *\n",
    "sch = StructType([StructField('V1',DoubleType()), StructField('V2',DoubleType()), StructField('V3',DoubleType()), StructField('V4',DoubleType()), StructField('V5',DoubleType()), StructField('V6',DoubleType()), StructField('V7',DoubleType()), StructField('V8',DoubleType()), StructField('V9',DoubleType()), StructField('V10',DoubleType()), StructField('V11',DoubleType()), StructField('V12',DoubleType()), StructField('V13',DoubleType()), StructField('V14',DoubleType()), StructField('V15',DoubleType()), StructField('V16',DoubleType()), StructField('V17',DoubleType()), StructField('V18',DoubleType()), StructField('V19',DoubleType()), StructField('V20',DoubleType()), StructField('V21',DoubleType()), StructField('V22',DoubleType()), StructField('V23',DoubleType()), StructField('V24',DoubleType()), StructField('V25',DoubleType()), StructField('V26',DoubleType()), StructField('V27',DoubleType()), StructField('V28',DoubleType()), StructField('V29',DoubleType()), StructField('V30',DoubleType()), StructField('V31',DoubleType()), StructField('V32',DoubleType()), StructField('V33',DoubleType()), StructField('V34',DoubleType()), StructField('V35',DoubleType()), StructField('V36',DoubleType()), StructField('V37',DoubleType()), StructField('V38',DoubleType()), StructField('V39',DoubleType()), StructField('V40',DoubleType()), StructField('V41',DoubleType()), StructField('V42',DoubleType()), StructField('V43',DoubleType()), StructField('V44',DoubleType()), StructField('V45',DoubleType()), StructField('V46',DoubleType()), StructField('V47',DoubleType()), StructField('V48',DoubleType()), StructField('V49',DoubleType()), StructField('V50',DoubleType()), StructField('V51',DoubleType()), StructField('V52',DoubleType()), StructField('V53',DoubleType()), StructField('V54',DoubleType()), StructField('V55',DoubleType()), StructField('V56',DoubleType()), StructField('V57',DoubleType()), StructField('V58',DoubleType()), StructField('V59',DoubleType()), StructField('V60',DoubleType()), StructField('V61',DoubleType()), StructField('V62',DoubleType()), StructField('V63',DoubleType()), StructField('V64',DoubleType()), StructField('V65',DoubleType()), StructField('V66',DoubleType()), StructField('V67',DoubleType()), StructField('V68',DoubleType()), StructField('V69',DoubleType()), StructField('V70',DoubleType()), StructField('V71',DoubleType()), StructField('V72',DoubleType()), StructField('V73',DoubleType()), StructField('V74',DoubleType()), StructField('V75',DoubleType()), StructField('V76',DoubleType()), StructField('V77',DoubleType()), StructField('V78',DoubleType()), StructField('V79',DoubleType()), StructField('V80',DoubleType()), StructField('V81',DoubleType()), StructField('V82',DoubleType()), StructField('V83',DoubleType()), StructField('V84',DoubleType()), StructField('V85',DoubleType()), StructField('V86',DoubleType()), StructField('V87',DoubleType()), StructField('V88',DoubleType()), StructField('V89',DoubleType()), StructField('V90',DoubleType()), StructField('V91',DoubleType()), StructField('V92',DoubleType()), StructField('V93',DoubleType()), StructField('V94',DoubleType()), StructField('V95',DoubleType()), StructField('V96',DoubleType()), StructField('V97',DoubleType()), StructField('V98',DoubleType()), StructField('V99',DoubleType()), StructField('V100',DoubleType())\n",
    "])"
   ]
  },
  {
   "cell_type": "markdown",
   "metadata": {},
   "source": [
    "## Read .csv file from hdfs "
   ]
  },
  {
   "cell_type": "code",
   "execution_count": 5,
   "metadata": {},
   "outputs": [],
   "source": [
    "X_Sparkdataframe = sparkSession.read.schema(sch).csv('hdfs://localhost:9000/df_X.csv')\n",
    "X_Sparkdataframe = X_Sparkdataframe.select(*(col(c).cast(\"float\").alias(c) for c in X_Sparkdataframe.columns))\n",
    "X = X_Sparkdataframe.toPandas()\n",
    "y_Sparkdataframe = sparkSession.read.csv('hdfs://localhost:9000/df_y.csv')\n",
    "y_Sparkdataframe = y_Sparkdataframe.select(*(col(c).cast(\"float\").alias(c) for c in y_Sparkdataframe.columns))\n",
    "y = y_Sparkdataframe.toPandas()"
   ]
  },
  {
   "cell_type": "code",
   "execution_count": 6,
   "metadata": {
    "scrolled": true
   },
   "outputs": [
    {
     "data": {
      "text/html": [
       "<div>\n",
       "<style scoped>\n",
       "    .dataframe tbody tr th:only-of-type {\n",
       "        vertical-align: middle;\n",
       "    }\n",
       "\n",
       "    .dataframe tbody tr th {\n",
       "        vertical-align: top;\n",
       "    }\n",
       "\n",
       "    .dataframe thead th {\n",
       "        text-align: right;\n",
       "    }\n",
       "</style>\n",
       "<table border=\"1\" class=\"dataframe\">\n",
       "  <thead>\n",
       "    <tr style=\"text-align: right;\">\n",
       "      <th></th>\n",
       "      <th>V1</th>\n",
       "      <th>V2</th>\n",
       "      <th>V3</th>\n",
       "      <th>V4</th>\n",
       "      <th>V5</th>\n",
       "      <th>V6</th>\n",
       "      <th>V7</th>\n",
       "      <th>V8</th>\n",
       "      <th>V9</th>\n",
       "      <th>V10</th>\n",
       "      <th>...</th>\n",
       "      <th>V91</th>\n",
       "      <th>V92</th>\n",
       "      <th>V93</th>\n",
       "      <th>V94</th>\n",
       "      <th>V95</th>\n",
       "      <th>V96</th>\n",
       "      <th>V97</th>\n",
       "      <th>V98</th>\n",
       "      <th>V99</th>\n",
       "      <th>V100</th>\n",
       "    </tr>\n",
       "  </thead>\n",
       "  <tbody>\n",
       "    <tr>\n",
       "      <th>0</th>\n",
       "      <td>1.474432</td>\n",
       "      <td>0.741591</td>\n",
       "      <td>0.814033</td>\n",
       "      <td>-1.056807</td>\n",
       "      <td>-1.127253</td>\n",
       "      <td>-0.570635</td>\n",
       "      <td>0.932386</td>\n",
       "      <td>0.489461</td>\n",
       "      <td>0.437171</td>\n",
       "      <td>-0.112340</td>\n",
       "      <td>...</td>\n",
       "      <td>2.513137</td>\n",
       "      <td>-0.810862</td>\n",
       "      <td>0.298956</td>\n",
       "      <td>-2.374750</td>\n",
       "      <td>0.259763</td>\n",
       "      <td>0.319230</td>\n",
       "      <td>-0.555365</td>\n",
       "      <td>2.224078</td>\n",
       "      <td>0.099637</td>\n",
       "      <td>2.430587</td>\n",
       "    </tr>\n",
       "    <tr>\n",
       "      <th>1</th>\n",
       "      <td>0.333444</td>\n",
       "      <td>-0.170674</td>\n",
       "      <td>0.485545</td>\n",
       "      <td>-0.507696</td>\n",
       "      <td>-0.068725</td>\n",
       "      <td>0.420943</td>\n",
       "      <td>-0.576900</td>\n",
       "      <td>0.377671</td>\n",
       "      <td>0.212166</td>\n",
       "      <td>0.458334</td>\n",
       "      <td>...</td>\n",
       "      <td>-0.171317</td>\n",
       "      <td>-0.255707</td>\n",
       "      <td>-0.566423</td>\n",
       "      <td>0.102026</td>\n",
       "      <td>-1.628440</td>\n",
       "      <td>0.586684</td>\n",
       "      <td>-0.686054</td>\n",
       "      <td>-0.310676</td>\n",
       "      <td>2.928675</td>\n",
       "      <td>-0.135470</td>\n",
       "    </tr>\n",
       "    <tr>\n",
       "      <th>2</th>\n",
       "      <td>-0.702465</td>\n",
       "      <td>-0.591920</td>\n",
       "      <td>-0.504592</td>\n",
       "      <td>1.797888</td>\n",
       "      <td>1.394753</td>\n",
       "      <td>1.676930</td>\n",
       "      <td>1.136961</td>\n",
       "      <td>1.572214</td>\n",
       "      <td>1.610559</td>\n",
       "      <td>1.149571</td>\n",
       "      <td>...</td>\n",
       "      <td>-1.010836</td>\n",
       "      <td>-0.291452</td>\n",
       "      <td>1.964419</td>\n",
       "      <td>-0.326234</td>\n",
       "      <td>-1.796697</td>\n",
       "      <td>0.040145</td>\n",
       "      <td>-0.868323</td>\n",
       "      <td>-0.547091</td>\n",
       "      <td>-0.224603</td>\n",
       "      <td>0.120932</td>\n",
       "    </tr>\n",
       "    <tr>\n",
       "      <th>3</th>\n",
       "      <td>1.186651</td>\n",
       "      <td>1.635826</td>\n",
       "      <td>1.107174</td>\n",
       "      <td>-0.164164</td>\n",
       "      <td>-0.219206</td>\n",
       "      <td>-1.184765</td>\n",
       "      <td>-1.331971</td>\n",
       "      <td>-1.665183</td>\n",
       "      <td>-1.309513</td>\n",
       "      <td>-0.752741</td>\n",
       "      <td>...</td>\n",
       "      <td>-1.822260</td>\n",
       "      <td>-0.567722</td>\n",
       "      <td>0.368095</td>\n",
       "      <td>2.531492</td>\n",
       "      <td>1.634248</td>\n",
       "      <td>0.726529</td>\n",
       "      <td>0.345214</td>\n",
       "      <td>1.700281</td>\n",
       "      <td>0.065955</td>\n",
       "      <td>0.228101</td>\n",
       "    </tr>\n",
       "    <tr>\n",
       "      <th>4</th>\n",
       "      <td>0.030240</td>\n",
       "      <td>-0.718577</td>\n",
       "      <td>-0.143089</td>\n",
       "      <td>-2.116477</td>\n",
       "      <td>-1.791629</td>\n",
       "      <td>-2.472293</td>\n",
       "      <td>-0.632186</td>\n",
       "      <td>-0.140760</td>\n",
       "      <td>-0.444888</td>\n",
       "      <td>-0.179802</td>\n",
       "      <td>...</td>\n",
       "      <td>-0.685247</td>\n",
       "      <td>0.558585</td>\n",
       "      <td>0.544091</td>\n",
       "      <td>-0.930464</td>\n",
       "      <td>0.677854</td>\n",
       "      <td>-1.428842</td>\n",
       "      <td>0.942960</td>\n",
       "      <td>0.084569</td>\n",
       "      <td>-0.258505</td>\n",
       "      <td>-0.655546</td>\n",
       "    </tr>\n",
       "  </tbody>\n",
       "</table>\n",
       "<p>5 rows × 100 columns</p>\n",
       "</div>"
      ],
      "text/plain": [
       "         V1        V2        V3        V4        V5        V6        V7  \\\n",
       "0  1.474432  0.741591  0.814033 -1.056807 -1.127253 -0.570635  0.932386   \n",
       "1  0.333444 -0.170674  0.485545 -0.507696 -0.068725  0.420943 -0.576900   \n",
       "2 -0.702465 -0.591920 -0.504592  1.797888  1.394753  1.676930  1.136961   \n",
       "3  1.186651  1.635826  1.107174 -0.164164 -0.219206 -1.184765 -1.331971   \n",
       "4  0.030240 -0.718577 -0.143089 -2.116477 -1.791629 -2.472293 -0.632186   \n",
       "\n",
       "         V8        V9       V10  ...       V91       V92       V93       V94  \\\n",
       "0  0.489461  0.437171 -0.112340  ...  2.513137 -0.810862  0.298956 -2.374750   \n",
       "1  0.377671  0.212166  0.458334  ... -0.171317 -0.255707 -0.566423  0.102026   \n",
       "2  1.572214  1.610559  1.149571  ... -1.010836 -0.291452  1.964419 -0.326234   \n",
       "3 -1.665183 -1.309513 -0.752741  ... -1.822260 -0.567722  0.368095  2.531492   \n",
       "4 -0.140760 -0.444888 -0.179802  ... -0.685247  0.558585  0.544091 -0.930464   \n",
       "\n",
       "        V95       V96       V97       V98       V99      V100  \n",
       "0  0.259763  0.319230 -0.555365  2.224078  0.099637  2.430587  \n",
       "1 -1.628440  0.586684 -0.686054 -0.310676  2.928675 -0.135470  \n",
       "2 -1.796697  0.040145 -0.868323 -0.547091 -0.224603  0.120932  \n",
       "3  1.634248  0.726529  0.345214  1.700281  0.065955  0.228101  \n",
       "4  0.677854 -1.428842  0.942960  0.084569 -0.258505 -0.655546  \n",
       "\n",
       "[5 rows x 100 columns]"
      ]
     },
     "execution_count": 6,
     "metadata": {},
     "output_type": "execute_result"
    }
   ],
   "source": [
    "X.head()"
   ]
  },
  {
   "cell_type": "code",
   "execution_count": 7,
   "metadata": {},
   "outputs": [
    {
     "data": {
      "text/html": [
       "<div>\n",
       "<style scoped>\n",
       "    .dataframe tbody tr th:only-of-type {\n",
       "        vertical-align: middle;\n",
       "    }\n",
       "\n",
       "    .dataframe tbody tr th {\n",
       "        vertical-align: top;\n",
       "    }\n",
       "\n",
       "    .dataframe thead th {\n",
       "        text-align: right;\n",
       "    }\n",
       "</style>\n",
       "<table border=\"1\" class=\"dataframe\">\n",
       "  <thead>\n",
       "    <tr style=\"text-align: right;\">\n",
       "      <th></th>\n",
       "      <th>_c0</th>\n",
       "    </tr>\n",
       "  </thead>\n",
       "  <tbody>\n",
       "    <tr>\n",
       "      <th>0</th>\n",
       "      <td>3.355155</td>\n",
       "    </tr>\n",
       "    <tr>\n",
       "      <th>1</th>\n",
       "      <td>-5.082232</td>\n",
       "    </tr>\n",
       "    <tr>\n",
       "      <th>2</th>\n",
       "      <td>7.678524</td>\n",
       "    </tr>\n",
       "    <tr>\n",
       "      <th>3</th>\n",
       "      <td>2.573545</td>\n",
       "    </tr>\n",
       "    <tr>\n",
       "      <th>4</th>\n",
       "      <td>-5.412944</td>\n",
       "    </tr>\n",
       "  </tbody>\n",
       "</table>\n",
       "</div>"
      ],
      "text/plain": [
       "        _c0\n",
       "0  3.355155\n",
       "1 -5.082232\n",
       "2  7.678524\n",
       "3  2.573545\n",
       "4 -5.412944"
      ]
     },
     "execution_count": 7,
     "metadata": {},
     "output_type": "execute_result"
    }
   ],
   "source": [
    "y.head()"
   ]
  },
  {
   "cell_type": "markdown",
   "metadata": {},
   "source": [
    "## General Usage"
   ]
  },
  {
   "cell_type": "code",
   "execution_count": 8,
   "metadata": {},
   "outputs": [
    {
     "name": "stderr",
     "output_type": "stream",
     "text": [
      "C:\\Users\\Seungha\\anaconda3\\lib\\site-packages\\sklearn\\externals\\joblib\\__init__.py:15: FutureWarning: sklearn.externals.joblib is deprecated in 0.21 and will be removed in 0.23. Please import this functionality directly from joblib, which can be installed with: pip install joblib. If this warning is raised when loading pickled models, you may need to re-serialize those models with scikit-learn 0.21+.\n",
      "  warnings.warn(msg, category=FutureWarning)\n",
      "C:\\Users\\Seungha\\anaconda3\\lib\\site-packages\\sklearn\\externals\\six.py:31: FutureWarning: The module is deprecated in version 0.21 and will be removed in version 0.23 since we've dropped support for Python 2.7. Please rely on the official version of six (https://pypi.org/project/six/).\n",
      "  \"(https://pypi.org/project/six/).\", FutureWarning)\n"
     ]
    },
    {
     "name": "stdout",
     "output_type": "stream",
     "text": [
      "Procedure_1_fin.\n",
      "Procedure_2_fin.\n"
     ]
    },
    {
     "data": {
      "text/plain": [
       "<Hi_LASSO_pyspark.HiLASSO_Spark at 0x1461d3a8e08>"
      ]
     },
     "execution_count": 8,
     "metadata": {},
     "output_type": "execute_result"
    }
   ],
   "source": [
    "from Hi_LASSO_pyspark import HiLASSO_Spark\n",
    "\n",
    "model = HiLASSO_Spark(X, y, q1 = 'auto', q2 = 'auto', B = 'auto', d = 0.05, alpha = 0.95)\n",
    "model.fit(significance_level = 0.05)"
   ]
  },
  {
   "cell_type": "code",
   "execution_count": 9,
   "metadata": {},
   "outputs": [
    {
     "data": {
      "text/plain": [
       "array([-2.93087620e-03,  0.00000000e+00,  0.00000000e+00,  1.31474777e-01,\n",
       "        6.84772712e-02,  0.00000000e+00,  0.00000000e+00,  0.00000000e+00,\n",
       "        0.00000000e+00,  0.00000000e+00, -2.46003350e-01, -2.57166577e-02,\n",
       "       -7.86081772e-02,  8.06069958e-04, -3.64801370e-04,  2.22027498e-03,\n",
       "        0.00000000e+00,  5.16826221e-01,  3.30612307e-01,  9.96674908e-02,\n",
       "        0.00000000e+00, -2.24976022e-02,  6.18189377e-03,  0.00000000e+00,\n",
       "       -4.45826638e-01, -1.55145953e-03,  9.15820873e-03,  8.88005656e-02,\n",
       "       -5.50169770e-02,  1.05364670e-01,  7.27717119e-03,  0.00000000e+00,\n",
       "       -3.54166526e-02,  2.12443020e-02,  0.00000000e+00, -5.97024153e-02,\n",
       "        0.00000000e+00,  0.00000000e+00,  0.00000000e+00,  6.22630221e-03,\n",
       "        3.61840952e-01,  0.00000000e+00,  1.48616719e-02,  2.86405145e-02,\n",
       "        7.69327207e-03, -1.97795030e-03, -5.87466557e-04, -5.05148701e-03,\n",
       "        2.13316626e-03,  0.00000000e+00,  0.00000000e+00, -4.16156675e-02,\n",
       "       -8.91676078e-02,  5.20587203e-02,  1.15293704e-02,  1.34305258e+00,\n",
       "        0.00000000e+00,  0.00000000e+00, -3.19910656e-04,  3.24303309e-03,\n",
       "        2.33304285e-03, -2.34382876e-03,  0.00000000e+00, -1.95263332e-01,\n",
       "        3.77895050e-03, -4.56551800e-03, -1.35649365e-03,  0.00000000e+00,\n",
       "        4.89502809e-02,  5.03697699e-03,  2.06174255e-03, -3.29356699e-02,\n",
       "       -1.23652754e-02,  6.48183320e-03,  0.00000000e+00,  6.96790255e-02,\n",
       "       -8.22366285e-01,  3.42451447e-02, -9.62391545e-02, -8.36809784e-04,\n",
       "        4.63230602e-03,  3.67938680e-03,  3.05607075e-03,  0.00000000e+00,\n",
       "        1.01909296e-02,  0.00000000e+00,  0.00000000e+00,  8.97773903e-03,\n",
       "        4.16094869e-03,  0.00000000e+00,  0.00000000e+00,  6.61701714e-01,\n",
       "       -2.97897532e-02,  6.66917499e-02, -1.19647287e-03,  0.00000000e+00,\n",
       "        4.89184540e-02,  1.80360232e-01, -2.74686208e-02,  1.08354900e+00])"
      ]
     },
     "execution_count": 9,
     "metadata": {},
     "output_type": "execute_result"
    }
   ],
   "source": [
    "model.coef_"
   ]
  },
  {
   "cell_type": "code",
   "execution_count": 10,
   "metadata": {},
   "outputs": [
    {
     "data": {
      "text/plain": [
       "array([1.00000000e+000, 1.00000000e+000, 1.00000000e+000, 2.37941808e-014,\n",
       "       1.47800906e-001, 1.00000000e+000, 1.00000000e+000, 1.00000000e+000,\n",
       "       1.00000000e+000, 1.00000000e+000, 1.48039547e-027, 9.91106240e-001,\n",
       "       1.01311192e-003, 9.99999996e-001, 1.00000000e+000, 9.99999970e-001,\n",
       "       1.00000000e+000, 4.59982795e-073, 9.62381973e-054, 1.81930315e-003,\n",
       "       1.00000000e+000, 9.83524831e-001, 9.99999970e-001, 1.00000000e+000,\n",
       "       5.29300003e-087, 1.00000000e+000, 9.99999105e-001, 5.50039688e-004,\n",
       "       2.29794175e-002, 1.72819884e-006, 1.00000000e+000, 1.00000000e+000,\n",
       "       2.56663963e-001, 9.95497462e-001, 1.00000000e+000, 6.41895592e-001,\n",
       "       1.00000000e+000, 1.00000000e+000, 1.00000000e+000, 1.00000000e+000,\n",
       "       4.03680986e-062, 1.00000000e+000, 9.99985775e-001, 9.83524831e-001,\n",
       "       1.00000000e+000, 1.00000000e+000, 1.00000000e+000, 1.00000000e+000,\n",
       "       9.99860157e-001, 1.00000000e+000, 1.00000000e+000, 7.84453480e-001,\n",
       "       3.73125094e-005, 9.52569799e-001, 9.99622550e-001, 4.12863091e-218,\n",
       "       1.00000000e+000, 1.00000000e+000, 1.00000000e+000, 1.00000000e+000,\n",
       "       1.00000000e+000, 9.99999970e-001, 1.00000000e+000, 3.05663892e-028,\n",
       "       1.00000000e+000, 9.99999996e-001, 1.00000000e+000, 1.00000000e+000,\n",
       "       6.41895592e-001, 1.00000000e+000, 1.00000000e+000, 9.71253860e-001,\n",
       "       9.99999970e-001, 1.00000000e+000, 1.00000000e+000, 1.07625385e-001,\n",
       "       5.60211290e-133, 2.56663963e-001, 7.71325143e-014, 1.00000000e+000,\n",
       "       1.00000000e+000, 1.00000000e+000, 1.00000000e+000, 1.00000000e+000,\n",
       "       9.99999105e-001, 1.00000000e+000, 1.00000000e+000, 9.99999105e-001,\n",
       "       7.17046551e-001, 1.00000000e+000, 1.00000000e+000, 6.95181271e-121,\n",
       "       9.52569799e-001, 1.45917962e-002, 1.00000000e+000, 1.00000000e+000,\n",
       "       7.17046551e-001, 2.62046335e-019, 5.61787957e-001, 1.71396396e-188])"
      ]
     },
     "execution_count": 10,
     "metadata": {},
     "output_type": "execute_result"
    }
   ],
   "source": [
    "model.p_values"
   ]
  },
  {
   "cell_type": "code",
   "execution_count": 11,
   "metadata": {},
   "outputs": [
    {
     "data": {
      "text/plain": [
       "array([ 0.        ,  0.        ,  0.        ,  0.13147478,  0.        ,\n",
       "        0.        ,  0.        ,  0.        ,  0.        ,  0.        ,\n",
       "       -0.24600335,  0.        ,  0.        ,  0.        ,  0.        ,\n",
       "        0.        ,  0.        ,  0.51682622,  0.33061231,  0.        ,\n",
       "        0.        ,  0.        ,  0.        ,  0.        , -0.44582664,\n",
       "        0.        ,  0.        ,  0.        ,  0.        ,  0.10536467,\n",
       "        0.        ,  0.        ,  0.        ,  0.        ,  0.        ,\n",
       "        0.        ,  0.        ,  0.        ,  0.        ,  0.        ,\n",
       "        0.36184095,  0.        ,  0.        ,  0.        ,  0.        ,\n",
       "        0.        ,  0.        ,  0.        ,  0.        ,  0.        ,\n",
       "        0.        ,  0.        , -0.08916761,  0.        ,  0.        ,\n",
       "        1.34305258,  0.        ,  0.        ,  0.        ,  0.        ,\n",
       "        0.        ,  0.        ,  0.        , -0.19526333,  0.        ,\n",
       "        0.        ,  0.        ,  0.        ,  0.        ,  0.        ,\n",
       "        0.        ,  0.        ,  0.        ,  0.        ,  0.        ,\n",
       "        0.        , -0.82236628,  0.        , -0.09623915,  0.        ,\n",
       "        0.        ,  0.        ,  0.        ,  0.        ,  0.        ,\n",
       "        0.        ,  0.        ,  0.        ,  0.        ,  0.        ,\n",
       "        0.        ,  0.66170171,  0.        ,  0.        ,  0.        ,\n",
       "        0.        ,  0.        ,  0.18036023,  0.        ,  1.083549  ])"
      ]
     },
     "execution_count": 11,
     "metadata": {},
     "output_type": "execute_result"
    }
   ],
   "source": [
    "model.selected_var"
   ]
  }
 ],
 "metadata": {
  "kernelspec": {
   "display_name": "Python 3",
   "language": "python",
   "name": "python3"
  },
  "language_info": {
   "codemirror_mode": {
    "name": "ipython",
    "version": 3
   },
   "file_extension": ".py",
   "mimetype": "text/x-python",
   "name": "python",
   "nbconvert_exporter": "python",
   "pygments_lexer": "ipython3",
   "version": "3.7.6"
  }
 },
 "nbformat": 4,
 "nbformat_minor": 4
}
